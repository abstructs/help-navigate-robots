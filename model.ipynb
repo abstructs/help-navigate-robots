{
 "cells": [
  {
   "cell_type": "code",
   "execution_count": 1,
   "metadata": {},
   "outputs": [
    {
     "name": "stderr",
     "output_type": "stream",
     "text": [
      "/Library/Frameworks/Python.framework/Versions/3.6/lib/python3.6/site-packages/h5py/__init__.py:36: FutureWarning: Conversion of the second argument of issubdtype from `float` to `np.floating` is deprecated. In future, it will be treated as `np.float64 == np.dtype(float).type`.\n",
      "  from ._conv import register_converters as _register_converters\n",
      "Using TensorFlow backend.\n"
     ]
    }
   ],
   "source": [
    "import pandas as pd\n",
    "from keras.models import Sequential, Model, Input\n",
    "from keras.layers import RNN, GRU, Dense, Softmax, LSTM, SimpleRNNCell, SimpleRNN, concatenate, Dropout\n",
    "from keras.callbacks import ModelCheckpoint, EarlyStopping\n",
    "import numpy as np\n",
    "from sklearn.preprocessing import LabelEncoder, OneHotEncoder\n",
    "from sklearn.model_selection import train_test_split"
   ]
  },
  {
   "cell_type": "code",
   "execution_count": 2,
   "metadata": {},
   "outputs": [],
   "source": [
    "df_train = pd.read_csv(\"X_train.csv\")\n",
    "df_targets = pd.read_csv(\"y_train.csv\")\n",
    "df_test = pd.read_csv(\"X_test.csv\")"
   ]
  },
  {
   "cell_type": "code",
   "execution_count": 3,
   "metadata": {},
   "outputs": [],
   "source": [
    "# df_targets"
   ]
  },
  {
   "cell_type": "code",
   "execution_count": 4,
   "metadata": {},
   "outputs": [],
   "source": [
    "df_train = df_train.drop('row_id', axis=1)\n",
    "df_train = df_train.drop('measurement_number', axis=1)\n",
    "df_test = df_test.drop('row_id', axis=1)\n",
    "df_test = df_test.drop('measurement_number', axis=1)"
   ]
  },
  {
   "cell_type": "code",
   "execution_count": 5,
   "metadata": {},
   "outputs": [],
   "source": [
    "def normalize_orientations(df): #normalizing orientation by taking the square then the sqroot\n",
    "    q_norm = df['orientation_X'] ** 2 + df['orientation_Y'] ** 2 + df['orientation_Z'] ** 2 + df['orientation_W'] ** 2\n",
    "    qmod = q_norm ** .5\n",
    "    df['X_normalized'] = df['orientation_X'] / qmod\n",
    "    df['Y_normalized'] = df['orientation_Y'] / qmod\n",
    "    df['Z_normalized'] = df['orientation_Z'] / qmod\n",
    "    df['W_normalized'] = df['orientation_W'] / qmod\n",
    "    return df\n",
    "\n",
    "def sum_columns(df): #taking the sqrt of squared XYZ data for velocity, acceleration, orientation\n",
    "    df['total_angular_velocity'] = (df['angular_velocity_X'] ** 2 + df['angular_velocity_Y'] ** 2 + df['angular_velocity_Z'] ** 2) * 0.5\n",
    "    df['total_linear_acceleration'] = (df['linear_acceleration_X'] ** 2 + df['linear_acceleration_Y'] ** 2 + df['linear_acceleration_Z'] ** 2) ** 0.5\n",
    "#     df['total_orientation'] = (df['orientation_X'] ** 2 + df['orientation_Y'] ** 2 + df['orientation_Z'] ** 2) ** 0.5\n",
    "#     df['acceleration_vs_velocity'] = df['total_linear_acceleration'] / df['total_angular_velocity']\n",
    "    return df"
   ]
  },
  {
   "cell_type": "code",
   "execution_count": 6,
   "metadata": {},
   "outputs": [],
   "source": [
    "df_train = normalize_orientations(df_train)\n",
    "df_train = sum_columns(df_train)\n",
    "df_test = normalize_orientations(df_test)\n",
    "df_test = sum_columns(df_test)"
   ]
  },
  {
   "cell_type": "code",
   "execution_count": 7,
   "metadata": {},
   "outputs": [],
   "source": [
    "df_train_agg = df_train.groupby('series_id').apply(np.mean)\n",
    "\n",
    "if 'series_id' in df_train_agg.columns:\n",
    "    df_train_agg = df_train_agg.drop('series_id', axis=1)\n",
    "\n",
    "X_train_agg = np.array(df_train_agg)"
   ]
  },
  {
   "cell_type": "code",
   "execution_count": 8,
   "metadata": {},
   "outputs": [],
   "source": [
    "df_test_agg = df_test.groupby('series_id').apply(np.mean)\n",
    "\n",
    "if 'series_id' in df_test_agg.columns:\n",
    "    df_test_agg = df_test_agg.drop('series_id', axis=1)\n",
    "\n",
    "X_test_agg = np.array(df_test_agg)"
   ]
  },
  {
   "cell_type": "code",
   "execution_count": 9,
   "metadata": {},
   "outputs": [],
   "source": [
    "# df_train_agg"
   ]
  },
  {
   "cell_type": "code",
   "execution_count": 10,
   "metadata": {},
   "outputs": [],
   "source": [
    "standards = df_train.std()\n",
    "\n",
    "df_train = df_train / standards\n",
    "df_test = df_test / standards"
   ]
  },
  {
   "cell_type": "code",
   "execution_count": 11,
   "metadata": {},
   "outputs": [],
   "source": [
    "# df_train_agg.describe().T\n"
   ]
  },
  {
   "cell_type": "code",
   "execution_count": 12,
   "metadata": {},
   "outputs": [],
   "source": [
    "x_train = df_train.groupby('series_id').apply(lambda group: np.array(group.drop('series_id', axis=1)))\n",
    "x_test = df_test.groupby('series_id').apply(lambda group: np.array(group.drop('series_id', axis=1)))\n",
    "\n",
    "y = df_targets.surface\n",
    "\n",
    "X_train = []\n",
    "X_test = []\n",
    "\n",
    "for example in x_train:\n",
    "    X_train.append(example)\n",
    "    \n",
    "for example in x_test:\n",
    "    X_test.append(example)\n",
    "\n",
    "    \n",
    "X_train = np.array(X_train)\n",
    "X_test = np.array(X_test)"
   ]
  },
  {
   "cell_type": "code",
   "execution_count": 13,
   "metadata": {},
   "outputs": [
    {
     "data": {
      "text/plain": [
       "((3810, 128, 16), (3810, 16))"
      ]
     },
     "execution_count": 13,
     "metadata": {},
     "output_type": "execute_result"
    }
   ],
   "source": [
    "X_train.shape, X_train_agg.shape"
   ]
  },
  {
   "cell_type": "code",
   "execution_count": 14,
   "metadata": {},
   "outputs": [
    {
     "data": {
      "text/plain": [
       "((3816, 128, 16), (3816, 16))"
      ]
     },
     "execution_count": 14,
     "metadata": {},
     "output_type": "execute_result"
    }
   ],
   "source": [
    "X_test.shape, X_test_agg.shape"
   ]
  },
  {
   "cell_type": "code",
   "execution_count": 15,
   "metadata": {},
   "outputs": [],
   "source": [
    "encoder = LabelEncoder()\n",
    "y_train = encoder.fit_transform(y)"
   ]
  },
  {
   "cell_type": "code",
   "execution_count": 16,
   "metadata": {},
   "outputs": [],
   "source": [
    "onehotencoder = OneHotEncoder()\n",
    "\n",
    "y_train = onehotencoder.fit_transform(y_train.reshape(-1, 1))"
   ]
  },
  {
   "cell_type": "code",
   "execution_count": 17,
   "metadata": {},
   "outputs": [],
   "source": [
    "# df_test.describe()"
   ]
  },
  {
   "cell_type": "code",
   "execution_count": 18,
   "metadata": {},
   "outputs": [],
   "source": [
    "# stds = df_train.std()"
   ]
  },
  {
   "cell_type": "code",
   "execution_count": 19,
   "metadata": {},
   "outputs": [],
   "source": [
    "main_input = Input(shape=(X_train.shape[1:]))\n",
    "agg_input = Input(shape=(X_train_agg.shape[1],))\n",
    "\n",
    "x = GRU(32, input_shape=(None, X_train[2]))(main_input)\n",
    "\n",
    "y = Dense(32, activation=\"tanh\")(agg_input)\n",
    "\n",
    "z = concatenate([x, y])\n",
    "\n",
    "z = Dense(64, activation=\"tanh\")(z)\n",
    "z = Dropout(.6)(z)\n",
    "z = Dense(32, activation=\"tanh\")(z)\n",
    "predictions = Dense(encoder.classes_.size, activation=\"softmax\")(z)\n",
    "\n",
    "model = Model(inputs=[main_input, agg_input], outputs=predictions)\n",
    "# model = Sequential()\n",
    "# model.add(GRU(32, input_shape=(None, X_train.shape[2])))\n",
    "# model.add(Dense(64, activation=\"tanh\"))\n",
    "# model.add(Dense(32, activation=\"tanh\"))\n",
    "# model.add()\n",
    "# # model.load_weights('weights.hdf5')"
   ]
  },
  {
   "cell_type": "code",
   "execution_count": 20,
   "metadata": {},
   "outputs": [],
   "source": [
    "checkpoint_file = 'weights2.hdf5'\n",
    "checkpoint = ModelCheckpoint(checkpoint_file, monitor='val_acc', verbose=1, save_best_only=True, mode='max', save_weights_only=True)\n",
    "\n",
    "\n",
    "# early_stopping = EarlyStopping(patience=20)"
   ]
  },
  {
   "cell_type": "code",
   "execution_count": 21,
   "metadata": {},
   "outputs": [],
   "source": [
    "# df_train.columns\n"
   ]
  },
  {
   "cell_type": "code",
   "execution_count": 22,
   "metadata": {},
   "outputs": [],
   "source": [
    "callbacks=[checkpoint]"
   ]
  },
  {
   "cell_type": "code",
   "execution_count": 23,
   "metadata": {},
   "outputs": [],
   "source": [
    "model.load_weights('weights2.hdf5')"
   ]
  },
  {
   "cell_type": "code",
   "execution_count": 24,
   "metadata": {},
   "outputs": [],
   "source": [
    "model.compile(optimizer=\"adam\", loss=\"categorical_crossentropy\", metrics=[\"accuracy\"])"
   ]
  },
  {
   "cell_type": "code",
   "execution_count": 25,
   "metadata": {},
   "outputs": [],
   "source": [
    "X_train, X_val, X_train_agg, X_val_agg, y_train, y_val = train_test_split(X_train, X_train_agg, y_train)\n",
    "# y_trai.shape"
   ]
  },
  {
   "cell_type": "code",
   "execution_count": 26,
   "metadata": {},
   "outputs": [],
   "source": [
    "# df_train.describe()"
   ]
  },
  {
   "cell_type": "code",
   "execution_count": 28,
   "metadata": {},
   "outputs": [
    {
     "name": "stdout",
     "output_type": "stream",
     "text": [
      "Train on 2857 samples, validate on 953 samples\n",
      "Epoch 1/1\n",
      "2856/2857 [============================>.] - ETA: 0s - loss: 0.4156 - acc: 0.8841\n",
      "Epoch 00001: val_acc improved from -inf to 0.88877, saving model to weights2.hdf5\n",
      "2857/2857 [==============================] - 9s 3ms/step - loss: 0.4162 - acc: 0.8838 - val_loss: 0.4338 - val_acc: 0.8888\n"
     ]
    },
    {
     "data": {
      "text/plain": [
       "<keras.callbacks.History at 0x1237a7860>"
      ]
     },
     "execution_count": 28,
     "metadata": {},
     "output_type": "execute_result"
    }
   ],
   "source": [
    "# X_train\n",
    "\n",
    "model.fit([X_train, X_train_agg], y_train, epochs=1, validation_data=([X_val, X_val_agg], y_val), callbacks=callbacks, batch_size=24, verbose=1)"
   ]
  },
  {
   "cell_type": "code",
   "execution_count": 29,
   "metadata": {},
   "outputs": [],
   "source": [
    "# model.predict(X_test)\n",
    "raw_preds = model.predict([X_test, X_test_agg]).argmax(axis=1)"
   ]
  },
  {
   "cell_type": "code",
   "execution_count": 30,
   "metadata": {},
   "outputs": [
    {
     "data": {
      "text/plain": [
       "array([7, 1, 8, ..., 1, 1, 8])"
      ]
     },
     "execution_count": 30,
     "metadata": {},
     "output_type": "execute_result"
    }
   ],
   "source": [
    "raw_preds"
   ]
  },
  {
   "cell_type": "code",
   "execution_count": 890,
   "metadata": {},
   "outputs": [],
   "source": [
    "# raw_preds = model.predict(X_test)"
   ]
  },
  {
   "cell_type": "code",
   "execution_count": 891,
   "metadata": {},
   "outputs": [
    {
     "name": "stderr",
     "output_type": "stream",
     "text": [
      "/Library/Frameworks/Python.framework/Versions/3.6/lib/python3.6/site-packages/sklearn/preprocessing/label.py:151: DeprecationWarning: The truth value of an empty array is ambiguous. Returning False, but in future this will result in an error. Use `array.size > 0` to check that an array is not empty.\n",
      "  if diff:\n"
     ]
    }
   ],
   "source": [
    "preds = encoder.inverse_transform(raw_preds)"
   ]
  },
  {
   "cell_type": "code",
   "execution_count": 892,
   "metadata": {},
   "outputs": [],
   "source": [
    "# df_test.describe().T"
   ]
  },
  {
   "cell_type": "code",
   "execution_count": 893,
   "metadata": {},
   "outputs": [],
   "source": [
    "# acc = (raw_preds == y_train).sum() / raw_preds.size\n",
    "# acc\n",
    "# preds"
   ]
  },
  {
   "cell_type": "code",
   "execution_count": 894,
   "metadata": {},
   "outputs": [],
   "source": [
    "pred_df = pd.DataFrame()\n",
    "pred_df['surface'] = preds"
   ]
  },
  {
   "cell_type": "code",
   "execution_count": 895,
   "metadata": {},
   "outputs": [],
   "source": [
    "# pred_df.to_csv('submission.csv')\n",
    "pred_df.index.name = 'series_id'\n",
    "pred_df.to_csv('submission.csv')"
   ]
  },
  {
   "cell_type": "code",
   "execution_count": 645,
   "metadata": {},
   "outputs": [
    {
     "data": {
      "text/html": [
       "<div>\n",
       "<style scoped>\n",
       "    .dataframe tbody tr th:only-of-type {\n",
       "        vertical-align: middle;\n",
       "    }\n",
       "\n",
       "    .dataframe tbody tr th {\n",
       "        vertical-align: top;\n",
       "    }\n",
       "\n",
       "    .dataframe thead th {\n",
       "        text-align: right;\n",
       "    }\n",
       "</style>\n",
       "<table border=\"1\" class=\"dataframe\">\n",
       "  <thead>\n",
       "    <tr style=\"text-align: right;\">\n",
       "      <th></th>\n",
       "      <th>series_id</th>\n",
       "      <th>orientation_X</th>\n",
       "      <th>orientation_Y</th>\n",
       "      <th>orientation_Z</th>\n",
       "      <th>orientation_W</th>\n",
       "      <th>angular_velocity_X</th>\n",
       "      <th>angular_velocity_Y</th>\n",
       "      <th>angular_velocity_Z</th>\n",
       "      <th>linear_acceleration_X</th>\n",
       "      <th>linear_acceleration_Y</th>\n",
       "      <th>linear_acceleration_Z</th>\n",
       "      <th>X_normalized</th>\n",
       "      <th>Y_normalized</th>\n",
       "      <th>Z_normalized</th>\n",
       "      <th>W_normalized</th>\n",
       "      <th>total_angular_velocity</th>\n",
       "      <th>total_linear_acceleration</th>\n",
       "    </tr>\n",
       "  </thead>\n",
       "  <tbody>\n",
       "    <tr>\n",
       "      <th>count</th>\n",
       "      <td>487680.000000</td>\n",
       "      <td>487680.000000</td>\n",
       "      <td>487680.000000</td>\n",
       "      <td>487680.000000</td>\n",
       "      <td>487680.000000</td>\n",
       "      <td>487680.000000</td>\n",
       "      <td>487680.000000</td>\n",
       "      <td>487680.000000</td>\n",
       "      <td>487680.000000</td>\n",
       "      <td>487680.000000</td>\n",
       "      <td>487680.000000</td>\n",
       "      <td>487680.000000</td>\n",
       "      <td>487680.000000</td>\n",
       "      <td>487680.000000</td>\n",
       "      <td>487680.000000</td>\n",
       "      <td>4.876800e+05</td>\n",
       "      <td>487680.000000</td>\n",
       "    </tr>\n",
       "    <tr>\n",
       "      <th>mean</th>\n",
       "      <td>1.731594</td>\n",
       "      <td>-0.026323</td>\n",
       "      <td>0.105986</td>\n",
       "      <td>0.117556</td>\n",
       "      <td>-0.036469</td>\n",
       "      <td>0.001507</td>\n",
       "      <td>0.094022</td>\n",
       "      <td>-0.083715</td>\n",
       "      <td>0.069112</td>\n",
       "      <td>1.348774</td>\n",
       "      <td>-3.291305</td>\n",
       "      <td>-0.026323</td>\n",
       "      <td>0.105986</td>\n",
       "      <td>0.117556</td>\n",
       "      <td>-0.036469</td>\n",
       "      <td>5.061279e-01</td>\n",
       "      <td>4.160892</td>\n",
       "    </tr>\n",
       "    <tr>\n",
       "      <th>std</th>\n",
       "      <td>1.000000</td>\n",
       "      <td>1.000000</td>\n",
       "      <td>1.000000</td>\n",
       "      <td>1.000000</td>\n",
       "      <td>1.000000</td>\n",
       "      <td>1.000000</td>\n",
       "      <td>1.000000</td>\n",
       "      <td>1.000000</td>\n",
       "      <td>1.000000</td>\n",
       "      <td>1.000000</td>\n",
       "      <td>1.000000</td>\n",
       "      <td>1.000000</td>\n",
       "      <td>1.000000</td>\n",
       "      <td>1.000000</td>\n",
       "      <td>1.000000</td>\n",
       "      <td>1.000000e+00</td>\n",
       "      <td>1.000000</td>\n",
       "    </tr>\n",
       "    <tr>\n",
       "      <th>min</th>\n",
       "      <td>0.000000</td>\n",
       "      <td>-1.442476</td>\n",
       "      <td>-1.397364</td>\n",
       "      <td>-1.536535</td>\n",
       "      <td>-1.501639</td>\n",
       "      <td>-20.133554</td>\n",
       "      <td>-10.463414</td>\n",
       "      <td>-5.536902</td>\n",
       "      <td>-19.280980</td>\n",
       "      <td>-56.769244</td>\n",
       "      <td>-26.494538</td>\n",
       "      <td>-1.442477</td>\n",
       "      <td>-1.397370</td>\n",
       "      <td>-1.536540</td>\n",
       "      <td>-1.501646</td>\n",
       "      <td>8.978396e-07</td>\n",
       "      <td>0.198812</td>\n",
       "    </tr>\n",
       "    <tr>\n",
       "      <th>25%</th>\n",
       "      <td>0.865570</td>\n",
       "      <td>-1.028327</td>\n",
       "      <td>-0.972825</td>\n",
       "      <td>-0.844243</td>\n",
       "      <td>-1.016880</td>\n",
       "      <td>-0.346049</td>\n",
       "      <td>-0.374293</td>\n",
       "      <td>-0.395991</td>\n",
       "      <td>-0.283777</td>\n",
       "      <td>0.914878</td>\n",
       "      <td>-3.582347</td>\n",
       "      <td>-1.028330</td>\n",
       "      <td>-0.972827</td>\n",
       "      <td>-0.844243</td>\n",
       "      <td>-1.016881</td>\n",
       "      <td>3.883079e-02</td>\n",
       "      <td>3.763558</td>\n",
       "    </tr>\n",
       "    <tr>\n",
       "      <th>50%</th>\n",
       "      <td>1.731594</td>\n",
       "      <td>-0.154529</td>\n",
       "      <td>0.335846</td>\n",
       "      <td>0.301489</td>\n",
       "      <td>-0.179335</td>\n",
       "      <td>0.000715</td>\n",
       "      <td>0.061032</td>\n",
       "      <td>-0.023280</td>\n",
       "      <td>0.066813</td>\n",
       "      <td>1.345565</td>\n",
       "      <td>-3.291451</td>\n",
       "      <td>-0.154529</td>\n",
       "      <td>0.335846</td>\n",
       "      <td>0.301490</td>\n",
       "      <td>-0.179334</td>\n",
       "      <td>1.248068e-01</td>\n",
       "      <td>4.010295</td>\n",
       "    </tr>\n",
       "    <tr>\n",
       "      <th>75%</th>\n",
       "      <td>2.597619</td>\n",
       "      <td>0.950571</td>\n",
       "      <td>1.143067</td>\n",
       "      <td>1.159455</td>\n",
       "      <td>0.932079</td>\n",
       "      <td>0.344141</td>\n",
       "      <td>0.542060</td>\n",
       "      <td>0.281925</td>\n",
       "      <td>0.423534</td>\n",
       "      <td>1.775084</td>\n",
       "      <td>-2.995317</td>\n",
       "      <td>0.950571</td>\n",
       "      <td>1.143065</td>\n",
       "      <td>1.159451</td>\n",
       "      <td>0.932076</td>\n",
       "      <td>4.165537e-01</td>\n",
       "      <td>4.387901</td>\n",
       "    </tr>\n",
       "    <tr>\n",
       "      <th>max</th>\n",
       "      <td>3.463189</td>\n",
       "      <td>1.442476</td>\n",
       "      <td>1.396418</td>\n",
       "      <td>1.469347</td>\n",
       "      <td>1.483901</td>\n",
       "      <td>19.379501</td>\n",
       "      <td>12.168937</td>\n",
       "      <td>6.054023</td>\n",
       "      <td>19.671230</td>\n",
       "      <td>34.114816</td>\n",
       "      <td>23.139229</td>\n",
       "      <td>1.442481</td>\n",
       "      <td>1.396424</td>\n",
       "      <td>1.469349</td>\n",
       "      <td>1.483902</td>\n",
       "      <td>4.064174e+01</td>\n",
       "      <td>56.434945</td>\n",
       "    </tr>\n",
       "  </tbody>\n",
       "</table>\n",
       "</div>"
      ],
      "text/plain": [
       "           series_id  orientation_X  orientation_Y  orientation_Z  \\\n",
       "count  487680.000000  487680.000000  487680.000000  487680.000000   \n",
       "mean        1.731594      -0.026323       0.105986       0.117556   \n",
       "std         1.000000       1.000000       1.000000       1.000000   \n",
       "min         0.000000      -1.442476      -1.397364      -1.536535   \n",
       "25%         0.865570      -1.028327      -0.972825      -0.844243   \n",
       "50%         1.731594      -0.154529       0.335846       0.301489   \n",
       "75%         2.597619       0.950571       1.143067       1.159455   \n",
       "max         3.463189       1.442476       1.396418       1.469347   \n",
       "\n",
       "       orientation_W  angular_velocity_X  angular_velocity_Y  \\\n",
       "count  487680.000000       487680.000000       487680.000000   \n",
       "mean       -0.036469            0.001507            0.094022   \n",
       "std         1.000000            1.000000            1.000000   \n",
       "min        -1.501639          -20.133554          -10.463414   \n",
       "25%        -1.016880           -0.346049           -0.374293   \n",
       "50%        -0.179335            0.000715            0.061032   \n",
       "75%         0.932079            0.344141            0.542060   \n",
       "max         1.483901           19.379501           12.168937   \n",
       "\n",
       "       angular_velocity_Z  linear_acceleration_X  linear_acceleration_Y  \\\n",
       "count       487680.000000          487680.000000          487680.000000   \n",
       "mean            -0.083715               0.069112               1.348774   \n",
       "std              1.000000               1.000000               1.000000   \n",
       "min             -5.536902             -19.280980             -56.769244   \n",
       "25%             -0.395991              -0.283777               0.914878   \n",
       "50%             -0.023280               0.066813               1.345565   \n",
       "75%              0.281925               0.423534               1.775084   \n",
       "max              6.054023              19.671230              34.114816   \n",
       "\n",
       "       linear_acceleration_Z   X_normalized   Y_normalized   Z_normalized  \\\n",
       "count          487680.000000  487680.000000  487680.000000  487680.000000   \n",
       "mean               -3.291305      -0.026323       0.105986       0.117556   \n",
       "std                 1.000000       1.000000       1.000000       1.000000   \n",
       "min               -26.494538      -1.442477      -1.397370      -1.536540   \n",
       "25%                -3.582347      -1.028330      -0.972827      -0.844243   \n",
       "50%                -3.291451      -0.154529       0.335846       0.301490   \n",
       "75%                -2.995317       0.950571       1.143065       1.159451   \n",
       "max                23.139229       1.442481       1.396424       1.469349   \n",
       "\n",
       "        W_normalized  total_angular_velocity  total_linear_acceleration  \n",
       "count  487680.000000            4.876800e+05              487680.000000  \n",
       "mean       -0.036469            5.061279e-01                   4.160892  \n",
       "std         1.000000            1.000000e+00                   1.000000  \n",
       "min        -1.501646            8.978396e-07                   0.198812  \n",
       "25%        -1.016881            3.883079e-02                   3.763558  \n",
       "50%        -0.179334            1.248068e-01                   4.010295  \n",
       "75%         0.932076            4.165537e-01                   4.387901  \n",
       "max         1.483902            4.064174e+01                  56.434945  "
      ]
     },
     "execution_count": 645,
     "metadata": {},
     "output_type": "execute_result"
    }
   ],
   "source": [
    "df_train.describe()"
   ]
  },
  {
   "cell_type": "code",
   "execution_count": 1048,
   "metadata": {},
   "outputs": [
    {
     "data": {
      "text/plain": [
       "(3816, 128, 21)"
      ]
     },
     "execution_count": 1048,
     "metadata": {},
     "output_type": "execute_result"
    }
   ],
   "source": []
  },
  {
   "cell_type": "code",
   "execution_count": null,
   "metadata": {},
   "outputs": [],
   "source": []
  }
 ],
 "metadata": {
  "kernelspec": {
   "display_name": "Python 3",
   "language": "python",
   "name": "python3"
  },
  "language_info": {
   "codemirror_mode": {
    "name": "ipython",
    "version": 3
   },
   "file_extension": ".py",
   "mimetype": "text/x-python",
   "name": "python",
   "nbconvert_exporter": "python",
   "pygments_lexer": "ipython3",
   "version": "3.6.4"
  }
 },
 "nbformat": 4,
 "nbformat_minor": 2
}
